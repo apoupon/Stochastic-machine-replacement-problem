{
 "cells": [
  {
   "cell_type": "code",
   "execution_count": null,
   "id": "050cd6ff",
   "metadata": {},
   "outputs": [],
   "source": [
    "%pip install -r requirements.txt"
   ]
  },
  {
   "cell_type": "code",
   "execution_count": 2,
   "id": "aa9b9b40",
   "metadata": {},
   "outputs": [],
   "source": [
    "import matplotlib.pyplot as plt\n",
    "import numpy as np\n",
    "import random"
   ]
  },
  {
   "cell_type": "code",
   "execution_count": 3,
   "id": "32056ca7",
   "metadata": {},
   "outputs": [],
   "source": [
    "REPLACEMENT_COST = 500\n",
    "PROFITS = 150\n",
    "\n",
    "PROB = 0.9\n",
    "GAMMA = 0.8\n",
    "\n",
    "ACTION_SET = ['keep', 'replace']\n",
    "STATE_SET = range(1, 11)"
   ]
  },
  {
   "cell_type": "markdown",
   "id": "3275c12f",
   "metadata": {},
   "source": [
    "# Production"
   ]
  },
  {
   "cell_type": "code",
   "execution_count": 4,
   "id": "4f7675fe",
   "metadata": {},
   "outputs": [
    {
     "data": {
      "text/plain": [
       "[<matplotlib.lines.Line2D at 0x256bf94c550>]"
      ]
     },
     "execution_count": 4,
     "metadata": {},
     "output_type": "execute_result"
    },
    {
     "data": {
      "image/png": "[encoded data removed]",
      "text/plain": [
       "<Figure size 640x480 with 1 Axes>"
      ]
     },
     "metadata": {},
     "output_type": "display_data"
    }
   ],
   "source": [
    "def production(x):\n",
    "    return 8 + x - 0.15 * x**2\n",
    "\n",
    "x = np.linspace(1, 10)\n",
    "plt.plot(x, production(x))"
   ]
  },
  {
   "cell_type": "markdown",
   "id": "3371e728",
   "metadata": {},
   "source": [
    "# Action"
   ]
  },
  {
   "cell_type": "code",
   "execution_count": 5,
   "id": "8ea9a013",
   "metadata": {},
   "outputs": [],
   "source": [
    "def get_actions(state, bool=False):\n",
    "    if state<10:\n",
    "        if bool: return [0,1]\n",
    "        else: return ['keep', 'replace']\n",
    "    if state==10:\n",
    "        if bool: return [1]\n",
    "        else: return ['replace']"
   ]
  },
  {
   "cell_type": "markdown",
   "id": "285d0ad0",
   "metadata": {},
   "source": [
    "# Transition"
   ]
  },
  {
   "cell_type": "code",
   "execution_count": 6,
   "id": "2c430f70",
   "metadata": {},
   "outputs": [],
   "source": [
    "def transition(state, action, new_state, prob=PROB):\n",
    "    if (action=='keep' or action==0) and (state<=8) and (new_state==state+1):\n",
    "        return prob\n",
    "    if (action=='keep' or action==0) and (state<=8) and (new_state==state+2):\n",
    "        return 1-prob\n",
    "    if (action=='keep' or action==0) and (state==9) and (new_state==10):\n",
    "        return 1\n",
    "    if (action=='replace' or action==1) and (new_state==1):\n",
    "        return 1\n",
    "    else:\n",
    "        return 0 \n"
   ]
  },
  {
   "cell_type": "markdown",
   "id": "ccf9ae0b",
   "metadata": {},
   "source": [
    "# Reward"
   ]
  },
  {
   "cell_type": "code",
   "execution_count": 7,
   "id": "00cee2b1",
   "metadata": {},
   "outputs": [],
   "source": [
    "def reward(state, action, profits=PROFITS, replacement_cost=REPLACEMENT_COST):\n",
    "    if action == 'keep' or action == 0:\n",
    "        return production(state) * profits\n",
    "    if action == 'replace' or action == 1:\n",
    "        return production(state) * profits - replacement_cost"
   ]
  },
  {
   "cell_type": "markdown",
   "id": "a5d87600",
   "metadata": {},
   "source": [
    "# Value iteration\n",
    "\n",
    "### Idea\n",
    "Repeatedly update an estimate of the optimal value function according to Bellman optimality equation.\n",
    "\n",
    "### Procedure\n",
    "- Initialize $V_0(s) = 0, \\forall s \\in \\mathcal{S}$: no time steps left means an \n",
    "expected reward sum of zero\n",
    "- Update $V_{k+1}(s) = \\underset{a \\in \\mathcal{A}}{\\max} \\sum_{s' \\in \\mathcal{S}} T(s, a ,s') [ R(s, a, s') + \\gamma V_k(s')] $\n",
    "- Repeat until convergence"
   ]
  },
  {
   "cell_type": "code",
   "execution_count": 8,
   "id": "3ed56a52",
   "metadata": {},
   "outputs": [
    {
     "name": "stdout",
     "output_type": "stream",
     "text": [
      "Optimal Policy:\n",
      "['keep', 'keep', 'keep', 'keep', 'keep', 'replace', 'replace', 'replace', 'replace', 'replace']\n",
      "\n",
      "Optimal Value Function:\n",
      "[6655.40264752 6667.97684733 6586.99147687 6441.78730836 6267.55769381\n",
      " 6114.32211801 5971.82211801 5784.32211801 5551.82211801 5274.32211801]\n"
     ]
    }
   ],
   "source": [
    "def value_iteration(states, actions, transitions, rewards, gamma, theta=1e-6):\n",
    "    \"\"\"\n",
    "    states (list):\n",
    "        A list of states\n",
    "    actions (func):\n",
    "        A function that returns the available actions for a given state\n",
    "    transitions (func):\n",
    "        A function that returns the probability of transitionning from a state s to a state s' given action a\n",
    "    rewards (func):\n",
    "        A function that returns a reward when action a is executed from state s \n",
    "    theta (float): \n",
    "        stopping criterion \n",
    "    \"\"\"\n",
    "\n",
    "    value_function = np.zeros(len(states))\n",
    "    policy = list(np.zeros(len(states)))\n",
    "\n",
    "    while True:\n",
    "\n",
    "        delta = 0\n",
    "        for i, state in enumerate(states):\n",
    "\n",
    "            v = value_function[i]\n",
    "\n",
    "            action_values = []\n",
    "            for action in actions(state):\n",
    "\n",
    "                action_values.append(\n",
    "                    rewards(state, action) \\\n",
    "                        + sum(gamma * transitions(state, action, new_state) * value_function[new_state - 1]\n",
    "                              for new_state in STATE_SET)\n",
    "                )\n",
    "\n",
    "            value_function[i] = max(action_values)\n",
    "            delta = max(delta, abs(v - value_function[i]))\n",
    "\n",
    "        if delta < theta:\n",
    "            break\n",
    "\n",
    "    # Policy\n",
    "    for i, state in enumerate(states):\n",
    "\n",
    "        action_values = []\n",
    "        for action in actions(state):\n",
    "\n",
    "            action_values.append(\n",
    "                rewards(state, action) \\\n",
    "                    + sum(gamma * transitions(state, action, new_state) * value_function[new_state - 1]\n",
    "                          for new_state in states)\n",
    "            )\n",
    "\n",
    "        best_action = actions(state)[np.argmax(action_values)]\n",
    "        policy[i] = best_action\n",
    "\n",
    "    return policy, value_function\n",
    "\n",
    "# Run value iteration\n",
    "optimal_policy, optimal_value_function = value_iteration(STATE_SET, get_actions, transition, reward, GAMMA)\n",
    "\n",
    "# Print the results\n",
    "print(\"Optimal Policy:\")\n",
    "print(optimal_policy)\n",
    "print(\"\\nOptimal Value Function:\")\n",
    "print(optimal_value_function)"
   ]
  },
  {
   "cell_type": "code",
   "execution_count": null,
   "id": "52021c1b",
   "metadata": {},
   "outputs": [],
   "source": []
  },
  {
   "cell_type": "code",
   "execution_count": 9,
   "id": "4d73fa3a",
   "metadata": {},
   "outputs": [
    {
     "name": "stdout",
     "output_type": "stream",
     "text": [
      "\n",
      "Optimal Policy:\n",
      "['keep', 'keep', 'keep', 'keep', 'replace', 'replace', 'replace', 'replace', 'replace', 'replace']\n",
      "\n",
      "Optimal Value Function:\n",
      "[6823.82114149 6873.90988243 6838.82533416 6749.44553005 6646.55691319\n",
      " 6549.05691319 6406.55691319 6219.05691319 5986.55691319 5709.05691319]\n",
      "\n",
      "Optimal Policy:\n",
      "['keep', 'keep', 'keep', 'keep', 'replace', 'replace', 'replace', 'replace', 'replace', 'replace']\n",
      "\n",
      "Optimal Value Function:\n",
      "[6810.30601837 6857.38473775 6818.61259753 6724.79585124 6615.7448147\n",
      " 6518.2448147  6375.7448147  6188.2448147  5955.7448147  5678.2448147 ]\n",
      "\n",
      "Optimal Policy:\n",
      "['keep', 'keep', 'keep', 'keep', 'replace', 'replace', 'replace', 'replace', 'replace', 'replace']\n",
      "\n",
      "Optimal Value Function:\n",
      "[6796.79089526 6840.85959306 6798.3998609  6700.14617244 6584.93271621\n",
      " 6487.43271621 6344.93271621 6157.43271621 5924.93271621 5647.43271621]\n",
      "\n",
      "Optimal Policy:\n",
      "['keep', 'keep', 'keep', 'keep', 'replace', 'replace', 'replace', 'replace', 'replace', 'replace']\n",
      "\n",
      "Optimal Value Function:\n",
      "[6783.27577214 6824.33444837 6778.18712427 6675.49649364 6554.12061772\n",
      " 6456.62061772 6314.12061772 6126.62061772 5894.12061772 5616.62061772]\n",
      "\n",
      "Optimal Policy:\n",
      "['keep', 'keep', 'keep', 'keep', 'replace', 'replace', 'replace', 'replace', 'replace', 'replace']\n",
      "\n",
      "Optimal Value Function:\n",
      "[6769.76064903 6807.80930369 6757.97438765 6650.84681484 6523.30851922\n",
      " 6425.80851922 6283.30851922 6095.80851922 5863.30851922 5585.80851922]\n",
      "\n",
      "Optimal Policy:\n",
      "['keep', 'keep', 'keep', 'keep', 'replace', 'replace', 'replace', 'replace', 'replace', 'replace']\n",
      "\n",
      "Optimal Value Function:\n",
      "[6756.24552592 6791.28415901 6737.76165103 6626.19713604 6492.49642074\n",
      " 6394.99642074 6252.49642074 6064.99642074 5832.49642074 5554.99642074]\n",
      "\n",
      "Optimal Policy:\n",
      "['keep', 'keep', 'keep', 'keep', 'keep', 'replace', 'replace', 'replace', 'replace', 'replace']\n",
      "\n",
      "Optimal Value Function:\n",
      "[6745.95986732 6778.70723926 6722.38319561 6607.39173748 6469.51431458\n",
      " 6366.76789386 6224.26789386 6036.76789386 5804.26789386 5526.76789386]\n",
      "\n",
      "Optimal Policy:\n",
      "['keep', 'keep', 'keep', 'keep', 'keep', 'replace', 'replace', 'replace', 'replace', 'replace']\n",
      "\n",
      "Optimal Value Function:\n",
      "[6735.89795396 6766.40386233 6707.33967126 6588.99124531 6447.07469001\n",
      " 6338.71836317 6196.21836317 6008.71836317 5776.21836317 5498.71836317]\n",
      "\n",
      "Optimal Policy:\n",
      "['keep', 'keep', 'keep', 'keep', 'keep', 'replace', 'replace', 'replace', 'replace', 'replace']\n",
      "\n",
      "Optimal Value Function:\n",
      "[6725.83604062 6754.10048543 6692.29614693 6570.59075317 6424.63506546\n",
      " 6310.6688325  6168.1688325  5980.6688325  5748.1688325  5470.6688325 ]\n",
      "\n",
      "Optimal Policy:\n",
      "['keep', 'keep', 'keep', 'keep', 'keep', 'replace', 'replace', 'replace', 'replace', 'replace']\n",
      "\n",
      "Optimal Value Function:\n",
      "[6715.77412731 6741.79710855 6677.25262263 6552.19026104 6402.19544093\n",
      " 6282.61930185 6140.11930185 5952.61930185 5720.11930185 5442.61930185]\n",
      "\n",
      "Optimal Policy:\n",
      "['keep', 'keep', 'keep', 'keep', 'keep', 'replace', 'replace', 'replace', 'replace', 'replace']\n",
      "\n",
      "Optimal Value Function:\n",
      "[6705.712214   6729.49373167 6662.20909832 6533.78976892 6379.7558164\n",
      " 6254.5697712  6112.0697712  5924.5697712  5692.0697712  5414.5697712 ]\n",
      "\n",
      "Optimal Policy:\n",
      "['keep', 'keep', 'keep', 'keep', 'keep', 'replace', 'replace', 'replace', 'replace', 'replace']\n",
      "\n",
      "Optimal Value Function:\n",
      "[6695.65030069 6717.19035479 6647.16557402 6515.3892768  6357.31619187\n",
      " 6226.52024055 6084.02024055 5896.52024055 5664.02024055 5386.52024055]\n",
      "\n",
      "Optimal Policy:\n",
      "['keep', 'keep', 'keep', 'keep', 'keep', 'replace', 'replace', 'replace', 'replace', 'replace']\n",
      "\n",
      "Optimal Value Function:\n",
      "[6685.5883874  6704.88697792 6632.12204973 6496.98878469 6334.87656736\n",
      " 6198.47070992 6055.97070992 5868.47070992 5635.97070992 5358.47070992]\n",
      "\n",
      "Optimal Policy:\n",
      "['keep', 'keep', 'keep', 'keep', 'keep', 'replace', 'replace', 'replace', 'replace', 'replace']\n",
      "\n",
      "Optimal Value Function:\n",
      "[6675.5264741  6692.58360106 6617.07852545 6478.58829258 6312.43694284\n",
      " 6170.42117928 6027.92117928 5840.42117928 5607.92117928 5330.42117928]\n",
      "\n",
      "Optimal Policy:\n",
      "['keep', 'keep', 'keep', 'keep', 'keep', 'replace', 'replace', 'replace', 'replace', 'replace']\n",
      "\n",
      "Optimal Value Function:\n",
      "[6665.46456081 6680.2802242  6602.03500116 6460.18780047 6289.99731833\n",
      " 6142.37164865 5999.87164865 5812.37164865 5579.87164865 5302.37164865]\n",
      "\n",
      "Optimal Policy:\n",
      "['keep', 'keep', 'keep', 'keep', 'keep', 'replace', 'replace', 'replace', 'replace', 'replace']\n",
      "\n",
      "Optimal Value Function:\n",
      "[6655.40264752 6667.97684733 6586.99147687 6441.78730836 6267.55769381\n",
      " 6114.32211801 5971.82211801 5784.32211801 5551.82211801 5274.32211801]\n",
      "\n",
      "Optimal Policy:\n",
      "['keep', 'keep', 'keep', 'keep', 'keep', 'replace', 'replace', 'replace', 'replace', 'replace']\n",
      "\n",
      "Optimal Value Function:\n",
      "[6645.34073422 6655.67347047 6571.94795258 6423.38681625 6245.1180693\n",
      " 6086.27258738 5943.77258738 5756.27258738 5523.77258738 5246.27258738]\n",
      "\n",
      "Optimal Policy:\n",
      "['keep', 'keep', 'keep', 'keep', 'keep', 'replace', 'replace', 'replace', 'replace', 'replace']\n",
      "\n",
      "Optimal Value Function:\n",
      "[6635.27882093 6643.37009361 6556.9044283  6404.98632415 6222.67844479\n",
      " 6058.22305675 5915.72305675 5728.22305675 5495.72305675 5218.22305675]\n",
      "\n",
      "Optimal Policy:\n",
      "['keep', 'keep', 'keep', 'keep', 'keep', 'replace', 'replace', 'replace', 'replace', 'replace']\n",
      "\n",
      "Optimal Value Function:\n",
      "[6625.21690766 6631.06671676 6541.86090403 6386.58583205 6200.23882028\n",
      " 6030.17352612 5887.67352612 5700.17352612 5467.67352612 5190.17352612]\n",
      "\n",
      "Optimal Policy:\n",
      "['keep', 'keep', 'keep', 'keep', 'keep', 'replace', 'replace', 'replace', 'replace', 'replace']\n",
      "\n",
      "Optimal Value Function:\n",
      "[6615.15499438 6618.76333991 6526.81737975 6368.18533996 6177.79919578\n",
      " 6002.1239955  5859.6239955  5672.1239955  5439.6239955  5162.1239955 ]\n",
      "\n",
      "Optimal Policy:\n",
      "['keep', 'keep', 'keep', 'keep', 'keep', 'replace', 'replace', 'replace', 'replace', 'replace']\n",
      "\n",
      "Optimal Value Function:\n",
      "[6605.0930811  6606.45996306 6511.77385548 6349.78484786 6155.35957128\n",
      " 5974.07446488 5831.57446488 5644.07446488 5411.57446488 5134.07446488]\n",
      "\n",
      "Optimal Policy:\n",
      "['keep', 'keep', 'keep', 'keep', 'keep', 'replace', 'replace', 'replace', 'replace', 'replace']\n",
      "\n",
      "Optimal Value Function:\n",
      "[6595.03116783 6594.15658622 6496.73033121 6331.38435577 6132.91994678\n",
      " 5946.02493426 5803.52493426 5616.02493426 5383.52493426 5106.02493426]\n",
      "\n",
      "Optimal Policy:\n",
      "['keep', 'keep', 'keep', 'keep', 'keep', 'replace', 'replace', 'replace', 'replace', 'replace']\n",
      "\n",
      "Optimal Value Function:\n",
      "[6584.96925455 6581.85320937 6481.68680694 6312.98386368 6110.48032228\n",
      " 5917.97540364 5775.47540364 5587.97540364 5355.47540364 5077.97540364]\n",
      "\n",
      "Optimal Policy:\n",
      "['keep', 'keep', 'keep', 'keep', 'keep', 'replace', 'replace', 'replace', 'replace', 'replace']\n",
      "\n",
      "Optimal Value Function:\n",
      "[6574.90734128 6569.54983253 6466.64328267 6294.58337158 6088.04069778\n",
      " 5889.92587302 5747.42587302 5559.92587302 5327.42587302 5049.92587302]\n",
      "\n",
      "Optimal Policy:\n",
      "['keep', 'keep', 'keep', 'keep', 'keep', 'replace', 'replace', 'replace', 'replace', 'replace']\n",
      "\n",
      "Optimal Value Function:\n",
      "[6564.845428   6557.24645568 6451.5997584  6276.18287949 6065.60107329\n",
      " 5861.8763424  5719.3763424  5531.8763424  5299.3763424  5021.8763424 ]\n",
      "\n",
      "Optimal Policy:\n",
      "['keep', 'keep', 'keep', 'keep', 'keep', 'replace', 'replace', 'replace', 'replace', 'replace']\n",
      "\n",
      "Optimal Value Function:\n",
      "[6554.78351549 6544.94307957 6436.55623483 6257.78238807 6043.16144943\n",
      " 5833.82681239 5691.32681239 5503.82681239 5271.32681239 4993.82681239]\n",
      "\n",
      "Optimal Policy:\n",
      "['keep', 'keep', 'keep', 'keep', 'keep', 'replace', 'replace', 'replace', 'replace', 'replace']\n",
      "\n",
      "Optimal Value Function:\n",
      "[6544.72160222 6532.63970273 6421.51271057 6239.38189598 6020.72182493\n",
      " 5805.77728178 5663.27728178 5475.77728178 5243.27728178 4965.77728178]\n",
      "\n",
      "Optimal Policy:\n",
      "['keep', 'keep', 'keep', 'keep', 'keep', 'keep', 'replace', 'replace', 'replace', 'replace']\n",
      "\n",
      "Optimal Value Function:\n",
      "[6536.98852276 6523.18399393 6409.95059856 6225.24454611 6003.43157565\n",
      " 5784.67265394 5637.09081821 5449.59081821 5217.09081821 4939.59081821]\n",
      "\n",
      "Optimal Policy:\n",
      "['keep', 'keep', 'keep', 'keep', 'keep', 'keep', 'replace', 'replace', 'replace', 'replace']\n",
      "\n",
      "Optimal Value Function:\n",
      "[6529.32181866 6513.8094477  6398.48771137 6211.22870104 5986.28808957\n",
      " 5763.76596345 5610.95745493 5423.45745493 5190.95745493 4913.45745493]\n",
      "\n",
      "Optimal Policy:\n",
      "['keep', 'keep', 'keep', 'keep', 'keep', 'keep', 'replace', 'replace', 'replace', 'replace']\n",
      "\n",
      "Optimal Value Function:\n",
      "[6521.65511383 6504.43490077 6387.0248235  6197.21285531 5969.14460286\n",
      " 5742.85927235 5584.82409107 5397.32409107 5164.82409107 4887.32409107]\n"
     ]
    },
    {
     "data": {
      "text/plain": [
       "[<matplotlib.lines.Line2D at 0x256bf999fd0>]"
      ]
     },
     "execution_count": 9,
     "metadata": {},
     "output_type": "execute_result"
    },
    {
     "data": {
      "image/png": "[encoded data removed]",
      "text/plain": [
       "<Figure size 640x480 with 1 Axes>"
      ]
     },
     "metadata": {},
     "output_type": "display_data"
    }
   ],
   "source": [
    "first_replaces = list()\n",
    "\n",
    "replacement_costs = range(200, 800, 20)\n",
    "for replacement_cost in replacement_costs:\n",
    "    reward_c = lambda s, a: reward(s, a, replacement_cost=replacement_cost)\n",
    "    optimal_policy, optimal_value_function = value_iteration(STATE_SET, get_actions, transition, reward_c, GAMMA)\n",
    "    print(\"\\nOptimal Policy:\")\n",
    "    print(optimal_policy)\n",
    "    print(\"\\nOptimal Value Function:\")\n",
    "    print(optimal_value_function)\n",
    "    first_replaces.append(optimal_policy.index(\"replace\"))\n",
    "\n",
    "plt.plot(replacement_costs, first_replaces)   "
   ]
  },
  {
   "cell_type": "markdown",
   "id": "f0f6554e",
   "metadata": {},
   "source": [
    "# Policy iteration\n",
    "Focus on the quality of a policy (to find the optimal one)\n",
    "- Evaluate a policy\n",
    "- Greedily improve the policy\n",
    "\n",
    "### Policy evaluation\n",
    "\n",
    "Value function for a given policy $\\pi$:\n",
    "\\begin{equation}\n",
    "    V^{\\pi} = \\mathbb{E}[\\sum_{t=0}^{\\infty} \\gamma^t R(s_t, a_t, s_{t+1}) \\mid s_0, a_t=\\pi(s_t), T(s_t, a_t, s_{t+1})]\n",
    "\\end{equation}\n",
    "\n",
    "- the expectation runs over the states\n",
    "\n",
    "Value function for a given policy and state:\n",
    "\\begin{equation}\n",
    "    V^{\\pi}(s) = \\sum_{s' \\in \\mathcal{S}} T(s, \\pi(s), s')[R(s, \\pi(s), s') + \\gamma V^{\\pi}(s')]\n",
    "\\end{equation}\n",
    "\n",
    "We can compute the value function recursively:\n",
    "\\begin{equation}\n",
    "    V_0^{\\pi}(s) = 0\n",
    "\\end{equation}\n",
    "\n",
    "\\begin{equation}\n",
    "    V_{k+1}^{\\pi}(s) = \\sum_{s' \\in \\mathcal{S}} T(s, \\pi(s), s')[R(s, \\pi(s), s') + \\gamma V_k^{\\pi}(s')]\n",
    "\\end{equation}\n"
   ]
  },
  {
   "cell_type": "code",
   "execution_count": 10,
   "id": "84f6931f",
   "metadata": {},
   "outputs": [
    {
     "name": "stdout",
     "output_type": "stream",
     "text": [
      "\n",
      "Optimal Policy:\n",
      "['keep', 'keep', 'keep', 'keep', 'keep', 'replace', 'replace', 'replace', 'replace', 'replace']\n",
      "\n",
      "Optimal Value Function:\n",
      "[6655.40264758 6667.97684736 6586.99147684 6441.78730833 6267.55769383\n",
      " 6114.32211806 5971.82211806 5784.32211806 5551.82211806 5274.32211806]\n"
     ]
    }
   ],
   "source": [
    "\n",
    "def policy_iteration(states, actions, transitions, rewards, gamma, theta=1e-6):\n",
    "    \"\"\"\n",
    "    states (list):\n",
    "        A list of states\n",
    "    actions (func):\n",
    "        A function that returns the available actions for a given state\n",
    "    transitions (func):\n",
    "        A function that returns the probability of transitionning from a state s to a state s' given action a\n",
    "    rewards (func):\n",
    "        A function that returns a reward when action a is executed from state s \n",
    "    theta (float): \n",
    "        stopping criterion \n",
    "    \"\"\"\n",
    "    \n",
    "    value_function = np.zeros(len(states))\n",
    "    policy = [np.random.choice(actions(s)) for s in states]\n",
    "\n",
    "    while True:\n",
    "\n",
    "        # Policy Evaluation\n",
    "\n",
    "        while True:\n",
    "            \n",
    "            delta = 0\n",
    "            for i, state in enumerate(states):\n",
    "                \n",
    "                v = value_function[i]\n",
    "                action = policy[i]\n",
    "\n",
    "                value_function[i] = rewards(state, action) \\\n",
    "                    + sum(gamma * transitions(state, action, new_state) * value_function[new_state - 1]\n",
    "                          for new_state in states)\n",
    "\n",
    "                delta = max(delta, abs(v - value_function[i]))\n",
    "\n",
    "            if delta < theta:\n",
    "                break\n",
    "\n",
    "        # Policy Improvement\n",
    "\n",
    "        policy_stable = True\n",
    "        for i, state in enumerate(states):\n",
    "            \n",
    "            old_action = policy[i]\n",
    "            action_values = {}\n",
    "\n",
    "            for action in actions(state):\n",
    "\n",
    "                action_values[action] = rewards(state, action)\\\n",
    "                    + sum(gamma * transitions(state, action, new_state) * value_function[new_state - 1]\n",
    "                          for new_state in states)\n",
    "\n",
    "            best_action = max(action_values, key=action_values.get)\n",
    "            policy[i] = best_action\n",
    "\n",
    "            if old_action != best_action:\n",
    "                policy_stable = False\n",
    "\n",
    "        if policy_stable:\n",
    "            break\n",
    "\n",
    "    return policy, value_function\n",
    "\n",
    "# Run policy iteration\n",
    "optimal_policy, optimal_value_function = policy_iteration(STATE_SET, get_actions, transition, reward, GAMMA)\n",
    "\n",
    "# Print the results\n",
    "print(\"\\nOptimal Policy:\")\n",
    "print(optimal_policy)\n",
    "print(\"\\nOptimal Value Function:\")\n",
    "print(optimal_value_function)"
   ]
  },
  {
   "cell_type": "code",
   "execution_count": 11,
   "id": "a76a2004",
   "metadata": {},
   "outputs": [
    {
     "data": {
      "image/png": "[encoded data removed]",
      "text/plain": [
       "<Figure size 640x480 with 1 Axes>"
      ]
     },
     "metadata": {},
     "output_type": "display_data"
    }
   ],
   "source": [
    "first_replaces = list()\n",
    "\n",
    "probs = np.linspace(0, 1, 10)\n",
    "for prob in probs:\n",
    "    transition_p = lambda s, a, new_s: transition(s, a, new_s, prob=prob)\n",
    "    optimal_policy, optimal_value_function = policy_iteration(STATE_SET, get_actions, transition_p, reward, GAMMA)\n",
    "\n",
    "    first_replaces.append(optimal_policy.index(\"replace\")+1)\n",
    "\n",
    "plt.plot(probs, first_replaces)    \n",
    "plt.xlabel('p')\n",
    "plt.ylabel('First replace state')\n",
    "plt.ylim(0, 10)\n",
    "\n",
    "plt.savefig('sensitivity_to_p.png')\n"
   ]
  },
  {
   "cell_type": "code",
   "execution_count": 12,
   "id": "99dbf64a",
   "metadata": {},
   "outputs": [
    {
     "data": {
      "image/png": "[encoded data removed]",
      "text/plain": [
       "<Figure size 640x480 with 1 Axes>"
      ]
     },
     "metadata": {},
     "output_type": "display_data"
    }
   ],
   "source": [
    "first_replaces = list()\n",
    "\n",
    "replacement_costs = range(0, 1000, 20)\n",
    "for replacement_cost in replacement_costs:\n",
    "    reward_c = lambda s, a: reward(s, a, replacement_cost=replacement_cost)\n",
    "    optimal_policy, optimal_value_function = policy_iteration(STATE_SET, get_actions, transition, reward_c, GAMMA)\n",
    "    first_replaces.append(optimal_policy.index(\"replace\")+1)\n",
    "\n",
    "plt.plot(replacement_costs, first_replaces)   \n",
    "plt.xlabel('c')\n",
    "plt.ylabel('First replace state')\n",
    "plt.ylim(0, 10)\n",
    "plt.savefig('sensitivity_to_c.png')"
   ]
  },
  {
   "cell_type": "code",
   "execution_count": 13,
   "id": "00db2103",
   "metadata": {},
   "outputs": [
    {
     "data": {
      "image/png": "[encoded data removed]",
      "text/plain": [
       "<Figure size 640x480 with 1 Axes>"
      ]
     },
     "metadata": {},
     "output_type": "display_data"
    }
   ],
   "source": [
    "first_replaces = list()\n",
    "\n",
    "profits = range(0, 1000, 20)\n",
    "for profit in profits:\n",
    "    reward_p = lambda s, a: reward(s, a, profits=profit)\n",
    "    optimal_policy, optimal_value_function = policy_iteration(STATE_SET, get_actions, transition, reward_p, GAMMA)\n",
    "    first_replaces.append(optimal_policy.index(\"replace\")+1)\n",
    "\n",
    "plt.plot(profits, first_replaces)   \n",
    "plt.xlabel('m')\n",
    "plt.ylabel('First replace state')\n",
    "plt.ylim(0, 10)\n",
    "plt.savefig('sensitivity_to_m.png')"
   ]
  },
  {
   "cell_type": "markdown",
   "id": "6cec7c36",
   "metadata": {},
   "source": [
    "# Linear programming"
   ]
  },
  {
   "cell_type": "code",
   "execution_count": 14,
   "id": "bbbf75c0",
   "metadata": {},
   "outputs": [],
   "source": [
    "from scipy.optimize import linprog"
   ]
  },
  {
   "cell_type": "code",
   "execution_count": 15,
   "id": "18046e64",
   "metadata": {},
   "outputs": [],
   "source": [
    "p = PROB\n",
    "gamma = GAMMA\n",
    "m = PROFITS\n",
    "c = REPLACEMENT_COST "
   ]
  },
  {
   "cell_type": "code",
   "execution_count": 16,
   "id": "fcd0a20d",
   "metadata": {},
   "outputs": [],
   "source": [
    "Ls = np.arange(1, 11)\n",
    "\n",
    "# The production function y(s)\n",
    "def y(s):\n",
    "    return 8 + s - 0.15 * s**2"
   ]
  },
  {
   "cell_type": "code",
   "execution_count": 17,
   "id": "0c33ccfa",
   "metadata": {},
   "outputs": [],
   "source": [
    "def R(s, a, s_prime):\n",
    "    if a == 'replace':\n",
    "        return y(s) * m - c\n",
    "    else:\n",
    "        return y(s) * m"
   ]
  },
  {
   "cell_type": "code",
   "execution_count": 18,
   "id": "33f37ee5",
   "metadata": {},
   "outputs": [
    {
     "data": {
      "text/plain": [
       "(array([6655.40265052, 6667.97685021, 6586.99147962, 6441.78731099,\n",
       "        6267.55769633, 6114.32212041, 5971.82212041, 5784.32212041,\n",
       "        6051.82212041, 5774.32212041]),\n",
       " True)"
      ]
     },
     "execution_count": 18,
     "metadata": {},
     "output_type": "execute_result"
    }
   ],
   "source": [
    "# Number of states\n",
    "num_states = 10\n",
    "\n",
    "# Objective function\n",
    "c_vector = np.ones(num_states)\n",
    "\n",
    "# Coefficients for the constraints\n",
    "A_ub = np.zeros((num_states * 2, num_states))\n",
    "b_ub = np.zeros(num_states * 2)\n",
    "\n",
    "# Set up the constraints for each state (s), the transition function is implicitely integrated in the constraints\n",
    "for i, s in enumerate(Ls):\n",
    "    # Constraint for action 'keep'\n",
    "    A_ub[i, i] = -1  # Coefficient for V(s) on the left-hand side of the inequality\n",
    "    if s < 9:\n",
    "        A_ub[i, i+1] += p * gamma  # Coefficient for V(s+1)\n",
    "        A_ub[i, min(i+2, num_states-1)] += (1 - p) * gamma  # Coefficient for V(s+2) or V(10)\n",
    "        b_ub[i] = -p * R(s, 'keep', s+1) - (1 - p) * R(s, 'keep', min(s+2, 10))\n",
    "    else:\n",
    "        A_ub[i, 0] += gamma  # Coefficient for V(1)\n",
    "        b_ub[i] = -R(s, 'keep', 1)\n",
    "\n",
    "    # Constraint for action 'replace'\n",
    "    A_ub[num_states + i, i] = -1  # Coefficient for V(s) on the left-hand side of the inequality\n",
    "    A_ub[num_states + i, 0] += gamma  # Coefficient for V(1)\n",
    "    b_ub[num_states + i] = -R(s, 'replace', 1)\n",
    "\n",
    "# Bounds for the decision variables\n",
    "bounds = [(0, None) for _ in range(num_states)]\n",
    "\n",
    "# Solve the linear programming problem\n",
    "res = linprog(c_vector, A_ub=A_ub, b_ub=b_ub, bounds=bounds, method='highs')\n",
    "res.x, res.success"
   ]
  },
  {
   "cell_type": "code",
   "execution_count": 19,
   "id": "763fb046",
   "metadata": {},
   "outputs": [
    {
     "data": {
      "text/plain": [
       "['keep',\n",
       " 'keep',\n",
       " 'keep',\n",
       " 'keep',\n",
       " 'keep',\n",
       " 'keep',\n",
       " 'replace',\n",
       " 'replace',\n",
       " 'replace',\n",
       " 'replace']"
      ]
     },
     "execution_count": 19,
     "metadata": {},
     "output_type": "execute_result"
    }
   ],
   "source": [
    "def best_action(s, V_star_L, p, m, c, gamma):\n",
    "    # Immediate reward when keeping or replacing the machine\n",
    "    keep_reward = y(s) * m\n",
    "    replace_reward = y(1) * m - c\n",
    "\n",
    "    # Expected value if we keep the machine\n",
    "    if s < 10:\n",
    "        keep_value = p * (keep_reward + gamma * V_star_L[min(s, 9)]) + \\\n",
    "                     (1 - p) * (keep_reward + gamma * V_star_L[min(s+1, 9)])\n",
    "    else:\n",
    "        keep_value = keep_reward + gamma * V_star_L[0]  # If s == 10, it can only go to state 1\n",
    "\n",
    "    # Expected value if we replace the machine\n",
    "    replace_value = replace_reward + gamma * V_star_L[0]\n",
    "\n",
    "    return 'keep' if keep_value >= replace_value else 'replace'\n",
    "\n",
    "# Assuming V_star_L is the optimal value function obtained from the linear programming problem\n",
    "V_star_L = np.array([\n",
    "    130118.95690403, 130102.03303929, 130005.50975775, 129869.93782968,\n",
    "    129736.31466164, 129645.26733499, 129645.26733499, 129645.26733499,\n",
    "    129645.26733499, 129645.26733499\n",
    "])\n",
    "\n",
    "# Print the optimal action for each state\n",
    "optimal_policy = [best_action(s, V_star_L, p, m, c, gamma) for s in Ls]\n",
    "optimal_policy\n"
   ]
  }
 ],
 "metadata": {
  "kernelspec": {
   "display_name": "Python 3 (ipykernel)",
   "language": "python",
   "name": "python3"
  },
  "language_info": {
   "codemirror_mode": {
    "name": "ipython",
    "version": 3
   },
   "file_extension": ".py",
   "mimetype": "text/x-python",
   "name": "python",
   "nbconvert_exporter": "python",
   "pygments_lexer": "ipython3",
   "version": "3.11.5"
  }
 },
 "nbformat": 4,
 "nbformat_minor": 5
}
